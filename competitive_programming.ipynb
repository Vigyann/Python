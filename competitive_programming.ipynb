{
 "cells": [
  {
   "cell_type": "code",
   "execution_count": 1,
   "metadata": {},
   "outputs": [
    {
     "name": "stdout",
     "output_type": "stream",
     "text": [
      "12019\n"
     ]
    }
   ],
   "source": [
    "\n",
    "import inflect\n",
    "\n",
    "\n",
    "p = inflect.engine()\n",
    "\n",
    "count = 0\n",
    "\n",
    "\n",
    "for number in range(1, 601):\n",
    "    \n",
    "    words = p.number_to_words(number)\n",
    "    \n",
    " \n",
    "    updated_words = words.replace(\" \", \"\").replace(\"-\", \"\")\n",
    "    \n",
    "\n",
    "    count += len(updated_words)\n",
    "\n",
    "\n",
    "print(count)"
   ]
  },
  {
   "cell_type": "code",
   "execution_count": 2,
   "metadata": {},
   "outputs": [
    {
     "name": "stdout",
     "output_type": "stream",
     "text": [
      "12019\n"
     ]
    }
   ],
   "source": [
    "\n",
    "ones = [\"\", \"one\", \"two\", \"three\", \"four\", \"five\", \"six\", \"seven\", \"eight\", \"nine\", \"ten\",\n",
    "        \"eleven\", \"twelve\", \"thirteen\", \"fourteen\", \"fifteen\", \"sixteen\", \"seventeen\", \"eighteen\", \"nineteen\"]\n",
    "\n",
    "tens = [\"\", \"\", \"twenty\", \"thirty\", \"forty\", \"fifty\", \"sixty\", \"seventy\", \"eighty\", \"ninety\"]\n",
    "\n",
    "def nToWords(n):\n",
    "\n",
    "    if n == 0:\n",
    "        return \"\"\n",
    "    elif n < 20:\n",
    "        return ones[n]\n",
    "    elif n < 100:\n",
    "        return tens[n // 10] + (ones[n % 10] if n % 10 != 0 else \"\")\n",
    "    elif n < 1000:\n",
    "        if n % 100 == 0:\n",
    "            return ones[n // 100] + \"hundred\"\n",
    "        else:\n",
    "            return ones[n // 100] + \"hundredand\" + nToWords(n % 100)\n",
    "\n",
    "\n",
    "count = 0\n",
    "for i in range(1, 601):\n",
    "    words = nToWords(i)\n",
    "    count += len(words)\n",
    "\n",
    "print(count)\n"
   ]
  },
  {
   "cell_type": "code",
   "execution_count": 4,
   "metadata": {},
   "outputs": [
    {
     "data": {
      "text/plain": [
       "168"
      ]
     },
     "execution_count": 4,
     "metadata": {},
     "output_type": "execute_result"
    }
   ],
   "source": [
    "from datetime import datetime, timedelta\n",
    "\n",
    "def friday_13th(start_date, end_date):\n",
    "    count = 0\n",
    "    current_date = start_date\n",
    "    \n",
    "    while current_date <= end_date:\n",
    "        if current_date.day == 13 and current_date.weekday() == 5:  \n",
    "            count += 1\n",
    "        current_date += timedelta(days=1)\n",
    "    \n",
    "    return count\n",
    "\n",
    "\n",
    "start_date = datetime(2001, 1, 1)\n",
    "end_date = datetime(2099, 1, 1)\n",
    "\n",
    "\n",
    "friday_13th_count = friday_13th(start_date, end_date)\n",
    "friday_13th_count\n"
   ]
  },
  {
   "cell_type": "code",
   "execution_count": null,
   "metadata": {},
   "outputs": [],
   "source": [
    "t = input(\"Enter sentence \")\n",
    "xvowel = ['a', 'e', 'i', 'b', 'o', 'u', 't']\n",
    "\n",
    "upd_t = \"\"\n",
    "count = 0\n",
    "for i in range(len(t)):\n",
    "    a = t[i]\n",
    "    lc = a.lower()\n",
    "\n",
    "    if lc in xvowel:\n",
    "        count += 1\n",
    "    else:\n",
    "        count = 0\n",
    "\n",
    "\n",
    " \n",
    "    if count >= 2:\n",
    "        upd_t += a.upper()  \n",
    "    else:\n",
    "        upd_t += a  \n",
    "\n",
    "print(upd_t)\n"
   ]
  },
  {
   "cell_type": "code",
   "execution_count": null,
   "metadata": {},
   "outputs": [],
   "source": []
  }
 ],
 "metadata": {
  "kernelspec": {
   "display_name": "base",
   "language": "python",
   "name": "python3"
  },
  "language_info": {
   "codemirror_mode": {
    "name": "ipython",
    "version": 3
   },
   "file_extension": ".py",
   "mimetype": "text/x-python",
   "name": "python",
   "nbconvert_exporter": "python",
   "pygments_lexer": "ipython3",
   "version": "3.11.5"
  }
 },
 "nbformat": 4,
 "nbformat_minor": 2
}
