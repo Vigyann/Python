{
 "cells": [
  {
   "cell_type": "code",
   "execution_count": 24,
   "metadata": {},
   "outputs": [
    {
     "name": "stdout",
     "output_type": "stream",
     "text": [
      "[0.03951569 0.40726748 0.81389874 0.96999585 0.59439596]\n",
      "smallest 0.03951568879576128\n"
     ]
    }
   ],
   "source": [
    "#finding smallest no in an array\n",
    "import numpy as np\n",
    "a=np.random.rand(5)\n",
    "z=np.array(a)\n",
    "print(z)\n",
    "small=z[0]\n",
    "for i in z:\n",
    "    if(i<small):\n",
    "        small=i\n",
    "print(\"smallest\",small)"
   ]
  },
  {
   "cell_type": "code",
   "execution_count": 25,
   "metadata": {},
   "outputs": [
    {
     "name": "stdout",
     "output_type": "stream",
     "text": [
      "[0.52485145 0.2516967  0.62340659 0.09902545 0.75928971]\n",
      "Largest 0.7592897061938653\n"
     ]
    }
   ],
   "source": [
    "#find the largest no in an array\n",
    "a=np.random.rand(5)\n",
    "z=np.array(a)\n",
    "print(z)\n",
    "max=z[0]\n",
    "for i in z:\n",
    "    if i>max:\n",
    "        max=i\n",
    "print(\"Largest\",max)\n"
   ]
  },
  {
   "cell_type": "code",
   "execution_count": 26,
   "metadata": {},
   "outputs": [
    {
     "name": "stdout",
     "output_type": "stream",
     "text": [
      "[0.38806703 0.56369798 0.77157889 0.43369416 0.19039727]\n",
      "second_smallest: 0.3880670260585647\n"
     ]
    }
   ],
   "source": [
    "#find the second smallest element in an array\n",
    "a=np.random.rand(5)\n",
    "print(a)\n",
    "if a[0]<a[1]:\n",
    "   smallest,second_smallest=a[0],a[1]\n",
    "else:\n",
    "   smallest,second_smallest=a[1],a[0]\n",
    "for i in a[2:]:\n",
    "    if i<smallest:\n",
    "      second_smallest=smallest\n",
    "      smallest=i\n",
    "    elif smallest < i < second_smallest:\n",
    "        second_smallest = i\n",
    "\n",
    "\n",
    "            \n",
    "print(\"second_smallest:\",second_smallest)\n",
    "\n",
    "\n",
    "\n"
   ]
  },
  {
   "cell_type": "code",
   "execution_count": 27,
   "metadata": {},
   "outputs": [
    {
     "name": "stdout",
     "output_type": "stream",
     "text": [
      "[0.33696765 0.72442241 0.86640979 0.28850161 0.39169906]\n",
      "Largest element: 0.8664097923907248\n",
      "Second largest element: 0.724422414673539\n"
     ]
    }
   ],
   "source": [
    "#finding second_largest in an array\n",
    "z=np.random.rand(5)\n",
    "print(z)\n",
    "\n",
    "if z[0]<z[1]:\n",
    "    largest,second_largest=z[1],z[0]\n",
    "else:\n",
    "    largest,second_largest=z[0],z[1]\n",
    "\n",
    "for i in z[2:]:\n",
    "    if i>largest:\n",
    "        second_largest=largest\n",
    "        largest=i\n",
    "    elif largest >i>second_largest:\n",
    "           second_largest=i\n",
    "\n",
    "print(\"Largest element:\", largest)\n",
    "print(\"Second largest element:\", second_largest)\n",
    "\n",
    "\n",
    "        \n",
    "\n"
   ]
  },
  {
   "cell_type": "code",
   "execution_count": 28,
   "metadata": {},
   "outputs": [
    {
     "name": "stdout",
     "output_type": "stream",
     "text": [
      "Original Array: [0.77101109 0.36036055 0.15984668 0.7857865  0.53322808]\n",
      "Sorted Array: [0.15984668 0.36036055 0.53322808 0.77101109 0.7857865 ]\n"
     ]
    }
   ],
   "source": [
    "\n",
    "import numpy as np\n",
    "\n",
    "a = np.random.rand(5)\n",
    "print(\"Original Array:\", a)\n",
    "\n",
    "n = len(a)\n",
    "for i in range(n):\n",
    "    for j in range(0, n-i-1):\n",
    "        if a[j] > a[j+1]:\n",
    "            \n",
    "            a[j], a[j+1] = a[j+1], a[j]\n",
    "\n",
    "print(\"Sorted Array:\", a)\n"
   ]
  },
  {
   "cell_type": "code",
   "execution_count": 29,
   "metadata": {},
   "outputs": [
    {
     "name": "stdout",
     "output_type": "stream",
     "text": [
      "{'ab': 2, 'ok': 4, 'js': 1}\n"
     ]
    }
   ],
   "source": [
    "#count the frequency of each element\n",
    "\n",
    "a = [\"ab\",\"ab\",\"ok\",\"ok\",\"ok\",\"js\",\"ok\"]\n",
    "c = {}\n",
    "\n",
    "for i in a:\n",
    "    if i in c:\n",
    "        c[i] += 1  \n",
    "    else:\n",
    "        c[i] = 1 \n",
    "\n",
    "print(c)\n",
    "\n",
    "\n"
   ]
  },
  {
   "cell_type": "code",
   "execution_count": 30,
   "metadata": {},
   "outputs": [
    {
     "name": "stdout",
     "output_type": "stream",
     "text": [
      "[0, 1, 2, 3, 5, 8, 9]\n"
     ]
    }
   ],
   "source": [
    "#rearrange the array in increasing Or decreasing order\n",
    "a=[5,1,8,9,0,3,2]\n",
    "n=len(a)\n",
    "for i in range(n):\n",
    "    for j in range(0,n-i-1):\n",
    "      if(a[j]>a[j+1]): #for decreasing use(a[j]<a[j+1])\n",
    "         a[j],a[j+1]=a[j+1],a[j]\n",
    "\n",
    "print(a)"
   ]
  },
  {
   "cell_type": "code",
   "execution_count": 31,
   "metadata": {},
   "outputs": [
    {
     "name": "stdout",
     "output_type": "stream",
     "text": [
      "26\n"
     ]
    }
   ],
   "source": [
    "#calculate the sum of elements of an array\n",
    "\n",
    "a=[1,2,3,7,5,8]\n",
    "add=0\n",
    "for i in a:\n",
    "    add=add+i\n",
    "print(add)"
   ]
  },
  {
   "cell_type": "code",
   "execution_count": 32,
   "metadata": {},
   "outputs": [
    {
     "name": "stdout",
     "output_type": "stream",
     "text": [
      "Rotated array: [4, 4, 6, 8, 1, 2, 3]\n"
     ]
    }
   ],
   "source": [
    "#rotate an array by k elements--block swap algorithm\n",
    "\n",
    "\n",
    "def rotate_array(arr, k):\n",
    "    n = len(arr)\n",
    "    k = k % n \n",
    "    return arr[k:] + arr[:k]\n",
    "\n",
    "\n",
    "a = [1, 2, 3, 4, 4, 6, 8]\n",
    "\n",
    "n = int(input(\"Enter the number of elements to rotate by (k): \"))\n",
    "\n",
    "result =rotate_array(a, n)\n",
    "\n",
    "print(\"Rotated array:\", result)\n",
    "\n",
    "\n"
   ]
  },
  {
   "cell_type": "code",
   "execution_count": 33,
   "metadata": {},
   "outputs": [
    {
     "name": "stdout",
     "output_type": "stream",
     "text": [
      "4.0\n"
     ]
    }
   ],
   "source": [
    "#averagre of elem of arrays\n",
    "a = [1, 2, 3, 4, 4, 6, 8]\n",
    "add=0\n",
    "\n",
    "for i in a :\n",
    "    add=add+i\n",
    "Average=add/len(a)\n",
    "print(Average)\n"
   ]
  },
  {
   "cell_type": "code",
   "execution_count": null,
   "metadata": {},
   "outputs": [],
   "source": [
    "a = [1, 2, 3, 4, 4, 6, 8]\n",
    "\n",
    "# Calculate average\n",
    "average = sum(a) / len(a)\n",
    "\n",
    "print(\"Average:\", average)\n"
   ]
  },
  {
   "cell_type": "code",
   "execution_count": 36,
   "metadata": {},
   "outputs": [
    {
     "name": "stdout",
     "output_type": "stream",
     "text": [
      "Median: 4\n"
     ]
    }
   ],
   "source": [
    "import statistics\n",
    "\n",
    "a = [1, 2, 3, 4, 4, 6, 8]\n",
    "median = statistics.median(a)\n",
    "\n",
    "print(\"Median:\", median)\n"
   ]
  },
  {
   "cell_type": "code",
   "execution_count": 37,
   "metadata": {},
   "outputs": [
    {
     "name": "stdout",
     "output_type": "stream",
     "text": [
      "Median: 4\n"
     ]
    }
   ],
   "source": [
    "def find_median(arr):\n",
    "   \n",
    "    arr.sort()\n",
    "    n = len(arr)\n",
    "\n",
    "   \n",
    "    if n % 2 == 1:  # Odd number of elements\n",
    "        median = arr[n // 2]\n",
    "    else:  # Even number of elements\n",
    "        median = (arr[(n // 2) - 1] + arr[n // 2]) / 2\n",
    "\n",
    "    return median\n",
    "\n",
    "\n",
    "a = [1, 2, 3, 4, 4, 6, 8]\n",
    "\n",
    "median = find_median(a)\n",
    "\n",
    "print(\"Median:\", median)\n"
   ]
  },
  {
   "cell_type": "code",
   "execution_count": 4,
   "metadata": {},
   "outputs": [
    {
     "name": "stdout",
     "output_type": "stream",
     "text": [
      "[1, 2, 3, 4, 5]\n"
     ]
    }
   ],
   "source": [
    "#remove duplicate in sorted\n",
    "a = [1, 2, 2, 3, 4, 5, 5]\n",
    "unique_elements = []  \n",
    "\n",
    "for i in a:\n",
    "    if len(unique_elements) == 0 or unique_elements[-1] != i:\n",
    "        unique_elements.append(i)\n",
    "\n",
    "print(unique_elements)\n",
    "\n"
   ]
  },
  {
   "cell_type": "code",
   "execution_count": 5,
   "metadata": {},
   "outputs": [
    {
     "data": {
      "text/plain": [
       "[1, 2, 3, 4, 5]"
      ]
     },
     "execution_count": 5,
     "metadata": {},
     "output_type": "execute_result"
    }
   ],
   "source": [
    "#removing duplicate in unsorted\n",
    "a=[1,2,3,2,4,1,5]\n",
    "unique_elements=list(set(a))\n",
    "unique_elements\n"
   ]
  },
  {
   "cell_type": "code",
   "execution_count": 7,
   "metadata": {},
   "outputs": [
    {
     "name": "stdout",
     "output_type": "stream",
     "text": [
      "[3, 2, 4, 1, 5]\n"
     ]
    }
   ],
   "source": [
    "#remove duplicate in unsorted\n",
    "a=[1,2,3,2,4,1,5]\n",
    "\n",
    "for i in range(len(a)):\n",
    "    if(a.count(i)>1):\n",
    "        a.remove(i)\n",
    "\n",
    "print(a)\n",
    "\n"
   ]
  },
  {
   "cell_type": "code",
   "execution_count": 15,
   "metadata": {},
   "outputs": [
    {
     "name": "stdout",
     "output_type": "stream",
     "text": [
      "[1, 2, 3, 4, 5, 6]\n",
      "[1, 2, 10, 3, 4, 5, 6]\n",
      "[1, 2, 10, 3, 4, 5, 6, 11, 20, 33]\n"
     ]
    }
   ],
   "source": [
    "#add an ele in array\n",
    "a=[1,2,3,4,5]\n",
    "a.append(6)\n",
    "print(a)\n",
    "a.insert(2,10)\n",
    "print(a)\n",
    "a.extend([11,20,33])\n",
    "print(a)\n",
    "\n"
   ]
  },
  {
   "cell_type": "code",
   "execution_count": 16,
   "metadata": {},
   "outputs": [
    {
     "name": "stdout",
     "output_type": "stream",
     "text": [
      "[1, 2, 3, 4, 5, 6]\n"
     ]
    }
   ],
   "source": [
    "#add a new ele\n",
    "a = [1, 2, 3, 4, 5]  \n",
    "new_element = 6  \n",
    "new_list = []\n",
    "\n",
    "for i in a:\n",
    "    new_list.append(i) \n",
    "\n",
    "new_list.append(new_element)\n",
    "\n",
    "print(new_list)  \n"
   ]
  }
 ],
 "metadata": {
  "kernelspec": {
   "display_name": "base",
   "language": "python",
   "name": "python3"
  },
  "language_info": {
   "codemirror_mode": {
    "name": "ipython",
    "version": 3
   },
   "file_extension": ".py",
   "mimetype": "text/x-python",
   "name": "python",
   "nbconvert_exporter": "python",
   "pygments_lexer": "ipython3",
   "version": "3.11.5"
  }
 },
 "nbformat": 4,
 "nbformat_minor": 2
}
