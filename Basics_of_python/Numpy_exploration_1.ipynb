{
 "cells": [
  {
   "cell_type": "code",
   "execution_count": 2,
   "metadata": {},
   "outputs": [
    {
     "name": "stdout",
     "output_type": "stream",
     "text": [
      "Numpy Array [10 20 30 40 50]\n"
     ]
    }
   ],
   "source": [
    "import numpy as np\n",
    "python_list=[10,20,30,40,50]\n",
    "numpy_array=np.array(python_list)\n",
    "print(\"Numpy Array\",numpy_array)"
   ]
  },
  {
   "cell_type": "code",
   "execution_count": 4,
   "metadata": {},
   "outputs": [
    {
     "name": "stdout",
     "output_type": "stream",
     "text": [
      "\n",
      "2D Array (Matrix):\n",
      " [[ 7  8  9]\n",
      " [10 11 12]]\n"
     ]
    }
   ],
   "source": [
    "matrix=np.array([[7,8,9],[10,11,12]])\n",
    "print(\"\\n2D Array (Matrix):\\n\",matrix)"
   ]
  },
  {
   "cell_type": "code",
   "execution_count": 5,
   "metadata": {},
   "outputs": [
    {
     "name": "stdout",
     "output_type": "stream",
     "text": [
      "\n",
      "Array after adding 3: [ 9 10 11 12 13]\n",
      "\n",
      "Array after squaring: [ 36  49  64  81 100]\n"
     ]
    }
   ],
   "source": [
    "array=np.array([6,7,8,9,10])\n",
    "\n",
    "array_sum=array+3\n",
    "\n",
    "array_square=array**2\n",
    "print(\"\\nArray after adding 3:\",array_sum)\n",
    "print(\"\\nArray after squaring:\",array_square)\n"
   ]
  },
  {
   "cell_type": "code",
   "execution_count": 6,
   "metadata": {},
   "outputs": [
    {
     "name": "stdout",
     "output_type": "stream",
     "text": [
      "\n",
      "Element wise sum : [ 3  7 11 15 19]\n"
     ]
    }
   ],
   "source": [
    "array1=np.array([1,3,5,7,9])\n",
    "array2=np.array([2,4,6,8,10])\n",
    "\n",
    "elementwise_sum =array1+array2\n",
    "print(\"\\nElement wise sum :\",elementwise_sum)"
   ]
  },
  {
   "cell_type": "code",
   "execution_count": 7,
   "metadata": {},
   "outputs": [
    {
     "name": "stdout",
     "output_type": "stream",
     "text": [
      "\n",
      "Mean of the array: 35.0\n",
      "\n",
      "Max of the array: 55\n",
      "\n",
      "Min of the array: 15\n"
     ]
    }
   ],
   "source": [
    "array=np.array([15,25,35,45,55])\n",
    "mean_value=np.mean(array)\n",
    "max_value=np.max(array)\n",
    "min_value=np.min(array)\n",
    "\n",
    "print(\"\\nMean of the array:\",mean_value)\n",
    "print(\"\\nMax of the array:\",max_value)\n",
    "print(\"\\nMin of the array:\",min_value)\n"
   ]
  },
  {
   "cell_type": "code",
   "execution_count": 8,
   "metadata": {},
   "outputs": [
    {
     "name": "stdout",
     "output_type": "stream",
     "text": [
      "\n",
      "Arrays of zero [0. 0. 0. 0.]\n",
      "\n",
      "Arrays of ones [1. 1. 1. 1. 1. 1. 1. 1. 1. 1.]\n"
     ]
    }
   ],
   "source": [
    "zeroes_array=np.zeros(4)\n",
    "ones_array=np.ones(10)\n",
    "print(\"\\nArrays of zero\",zeroes_array)\n",
    "print(\"\\nArrays of ones\",ones_array)"
   ]
  },
  {
   "cell_type": "code",
   "execution_count": 9,
   "metadata": {},
   "outputs": [
    {
     "name": "stdout",
     "output_type": "stream",
     "text": [
      "\n",
      "Reshaped Array: [[ 2]\n",
      " [ 4]\n",
      " [ 6]\n",
      " [ 8]\n",
      " [10]]\n"
     ]
    }
   ],
   "source": [
    "array=np.array([2,4,6,8,10])\n",
    "reshaped_array=np.reshape(array,(5,1))\n",
    "print(\"\\nReshaped Array:\",reshaped_array)"
   ]
  },
  {
   "cell_type": "code",
   "execution_count": 11,
   "metadata": {},
   "outputs": [
    {
     "name": "stdout",
     "output_type": "stream",
     "text": [
      "\n",
      "Array with range from 5 to 15 with step 2 : [ 5  7  9 11 13]\n"
     ]
    }
   ],
   "source": [
    "range_array=np.arange(5,15,2)\n",
    "print(\"\\nArray with range from 5 to 15 with step 2 :\",range_array)"
   ]
  },
  {
   "cell_type": "code",
   "execution_count": 15,
   "metadata": {},
   "outputs": [
    {
     "name": "stdout",
     "output_type": "stream",
     "text": [
      "\n",
      "Identity Matrix :\n",
      " [[1. 0. 0.]\n",
      " [0. 1. 0.]\n",
      " [0. 0. 1.]]\n"
     ]
    }
   ],
   "source": [
    "identity_matrix=np.identity(3)\n",
    "print(\"\\nIdentity Matrix :\\n\",identity_matrix)"
   ]
  },
  {
   "cell_type": "code",
   "execution_count": 14,
   "metadata": {},
   "outputs": [
    {
     "name": "stdout",
     "output_type": "stream",
     "text": [
      "\n",
      "Original Matrix:\n",
      " [[1 2 3]\n",
      " [4 5 6]]\n",
      "\n",
      "Transpose Matrix:\n",
      " [[1 4]\n",
      " [2 5]\n",
      " [3 6]]\n"
     ]
    }
   ],
   "source": [
    "matrix=np.array([[1,2,3],[4,5,6]])\n",
    "\n",
    "transpose_matrix=np.transpose(matrix)\n",
    "print(\"\\nOriginal Matrix:\\n\",matrix)\n",
    "print(\"\\nTranspose Matrix:\\n\",transpose_matrix)\n"
   ]
  },
  {
   "cell_type": "code",
   "execution_count": 19,
   "metadata": {},
   "outputs": [
    {
     "name": "stdout",
     "output_type": "stream",
     "text": [
      "\n",
      " 3D array :\n",
      "\n",
      "[[[ 1  2  3]\n",
      "  [ 4  5  6]\n",
      "  [ 7  8  9]]\n",
      "\n",
      " [[10 11 12]\n",
      "  [13 14 15]\n",
      "  [16 17 18]]\n",
      "\n",
      " [[19 20 21]\n",
      "  [22 23 24]\n",
      "  [25 26 27]]]\n"
     ]
    }
   ],
   "source": [
    "array_3D=np.array([[[1,2,3],[4,5,6],[7,8,9]]\n",
    "                   ,[[10,11,12],[13,14,15],[16,17,18]]\n",
    "                   ,[[19,20,21],[22,23,24],[25,26,27]]])\n",
    "print(\"\\n 3D array :\\n\")\n",
    "print(array_3D)"
   ]
  },
  {
   "cell_type": "code",
   "execution_count": 20,
   "metadata": {},
   "outputs": [
    {
     "name": "stdout",
     "output_type": "stream",
     "text": [
      "[[1 2 3]\n",
      " [4 5 6]\n",
      " [7 8 9]]\n",
      "[[10 11 12]\n",
      " [13 14 15]\n",
      " [16 17 18]]\n",
      "[[19 20 21]\n",
      " [22 23 24]\n",
      " [25 26 27]]\n"
     ]
    }
   ],
   "source": [
    "for depth_slice in array_3D:\n",
    "    print(depth_slice)"
   ]
  },
  {
   "cell_type": "code",
   "execution_count": 22,
   "metadata": {},
   "outputs": [
    {
     "name": "stdout",
     "output_type": "stream",
     "text": [
      "\n",
      "Indexed Element ; 60\n"
     ]
    }
   ],
   "source": [
    "#code to accaess selement of 2d array\n",
    "array_2d=np.array([[10,20,30],[40,50,60]])\n",
    "elememt=array_2d[1,2]\n",
    "print(\"\\nIndexed Element ;\",elememt)"
   ]
  },
  {
   "cell_type": "code",
   "execution_count": 23,
   "metadata": {},
   "outputs": [
    {
     "name": "stdout",
     "output_type": "stream",
     "text": [
      "Sliced Array:\n",
      " [[5 6]\n",
      " [8 9]]\n"
     ]
    }
   ],
   "source": [
    "array_2d=np.array([[1,2,3],[4,5,6],[7,8,9]])\n",
    "sliced_array=array_2d[1:,1:]\n",
    "print(\"Sliced Array:\\n\",sliced_array)"
   ]
  },
  {
   "cell_type": "code",
   "execution_count": 25,
   "metadata": {},
   "outputs": [
    {
     "name": "stdout",
     "output_type": "stream",
     "text": [
      "Concatinated Array : [1 2 3 4 5 6]\n"
     ]
    }
   ],
   "source": [
    "array1=np.array([1,2,3])\n",
    "array2=np.array([4,5,6])\n",
    "concatinated_array=np.concatenate((array1, array2))\n",
    "print(\"Concatinated Array :\",concatinated_array)"
   ]
  },
  {
   "cell_type": "code",
   "execution_count": 26,
   "metadata": {},
   "outputs": [
    {
     "name": "stdout",
     "output_type": "stream",
     "text": [
      "Splitted arrays: [array([1, 2]), array([3, 4]), array([5, 6])]\n"
     ]
    }
   ],
   "source": [
    "array=np.array([1,2,3,4,5,6])\n",
    "split_array=np.split(array,3)\n",
    "print(\"Splitted arrays:\",split_array)"
   ]
  },
  {
   "cell_type": "code",
   "execution_count": 29,
   "metadata": {},
   "outputs": [
    {
     "name": "stdout",
     "output_type": "stream",
     "text": [
      "Array of unique elements:  [ 1  2  5  6 34]\n"
     ]
    }
   ],
   "source": [
    "array=np.array([1,2,34,5,5,6,6])\n",
    "unique_elements=np.unique(array)\n",
    "print(\"Array of unique elements: \",unique_elements)"
   ]
  },
  {
   "cell_type": "code",
   "execution_count": 30,
   "metadata": {},
   "outputs": [
    {
     "name": "stdout",
     "output_type": "stream",
     "text": [
      "REversed Array: [5 4 3 2 1]\n"
     ]
    }
   ],
   "source": [
    "array=np.array([1,2,3,4,5])\n",
    "reverse_array=np.flip(array)\n",
    "print(\"REversed Array:\",reverse_array)"
   ]
  },
  {
   "cell_type": "code",
   "execution_count": 32,
   "metadata": {},
   "outputs": [
    {
     "name": "stdout",
     "output_type": "stream",
     "text": [
      "Stacked array:\n",
      " [[1 2 3]\n",
      " [4 5 6]]\n"
     ]
    }
   ],
   "source": [
    "array1=np.array([1,2,3])\n",
    "array2=np.array([4,5,6])\n",
    "stacked_array=np.vstack((array1,array2))\n",
    "print(\"Stacked array:\\n\",stacked_array)"
   ]
  },
  {
   "cell_type": "code",
   "execution_count": 33,
   "metadata": {},
   "outputs": [
    {
     "name": "stdout",
     "output_type": "stream",
     "text": [
      "Repeated arrays [1 1 1 2 2 2 3 3 3]\n"
     ]
    }
   ],
   "source": [
    "array=np.array([1,2,3])\n",
    "repeated_array=np.repeat(array,3)\n",
    "print(\"Repeated arrays\",repeated_array)"
   ]
  },
  {
   "cell_type": "code",
   "execution_count": 35,
   "metadata": {},
   "outputs": [
    {
     "name": "stdout",
     "output_type": "stream",
     "text": [
      "Integer Array : [1 2 3]\n"
     ]
    }
   ],
   "source": [
    "array=np.array([1.1,2.2,3.3],dtype=np.float64)\n",
    "int_array=array.astype(np.int32)\n",
    "print(\"Integer Array :\",int_array)\n",
    "\n"
   ]
  },
  {
   "cell_type": "code",
   "execution_count": 3,
   "metadata": {},
   "outputs": [
    {
     "name": "stdout",
     "output_type": "stream",
     "text": [
      "String Array: ['apple' 'banana' 'cherry']\n"
     ]
    }
   ],
   "source": [
    "string_array=np.array(['apple','banana','cherry'])\n",
    "print(\"String Array:\",string_array)"
   ]
  },
  {
   "cell_type": "code",
   "execution_count": 4,
   "metadata": {},
   "outputs": [
    {
     "name": "stdout",
     "output_type": "stream",
     "text": [
      "Tiled Array : [1 2 3 1 2 3 1 2 3]\n"
     ]
    }
   ],
   "source": [
    "array=np.array([1,2,3])\n",
    "tiled_array=np.tile(array,3)\n",
    "print(\"Tiled Array :\",tiled_array)"
   ]
  },
  {
   "cell_type": "code",
   "execution_count": 5,
   "metadata": {},
   "outputs": [
    {
     "name": "stdout",
     "output_type": "stream",
     "text": [
      "\n",
      "Random Integer Array:\n",
      " [[82  3 78]\n",
      " [43 14 87]\n",
      " [46 96 25]]\n"
     ]
    }
   ],
   "source": [
    "random_array=np.random.randint(1,100,size=(3,3))\n",
    "print(\"\\nRandom Integer Array:\\n\",random_array)"
   ]
  },
  {
   "cell_type": "code",
   "execution_count": 6,
   "metadata": {},
   "outputs": [
    {
     "name": "stdout",
     "output_type": "stream",
     "text": [
      "Boolean Array :\n",
      " [ True False  True False]\n"
     ]
    }
   ],
   "source": [
    "array=np.array([1,0,3,0])\n",
    "boolean_array=array.astype(bool)\n",
    "print(\"Boolean Array :\\n\",boolean_array)"
   ]
  },
  {
   "cell_type": "code",
   "execution_count": 7,
   "metadata": {},
   "outputs": [
    {
     "name": "stdout",
     "output_type": "stream",
     "text": [
      "Array after replacement : [ 1  2 99  4 99]\n"
     ]
    }
   ],
   "source": [
    "array=np.array([1,2,3,4,3])\n",
    "array[array==3]=99\n",
    "print(\"Array after replacement :\",array)"
   ]
  },
  {
   "cell_type": "code",
   "execution_count": 8,
   "metadata": {},
   "outputs": [
    {
     "name": "stdout",
     "output_type": "stream",
     "text": [
      "Shuffled Array : [3 3 2 4 1]\n"
     ]
    }
   ],
   "source": [
    "array=np.array([1,2,3,4,3])\n",
    "np.random.shuffle(array)\n",
    "print(\"Shuffled Array :\",array)"
   ]
  },
  {
   "cell_type": "code",
   "execution_count": 9,
   "metadata": {},
   "outputs": [
    {
     "name": "stdout",
     "output_type": "stream",
     "text": [
      "Horizontally Stacked Arrays : [1 2 3 4 5 6]\n"
     ]
    }
   ],
   "source": [
    "array1=np.array([1,2,3])\n",
    "array2=np.array([4,5,6])\n",
    "stacked_array=np.hstack((array1,array2))\n",
    "print(\"Horizontally Stacked Arrays :\",stacked_array)"
   ]
  },
  {
   "cell_type": "code",
   "execution_count": 10,
   "metadata": {},
   "outputs": [
    {
     "name": "stdout",
     "output_type": "stream",
     "text": [
      "[array([[1, 2, 3]]), array([[4, 5, 6]]), array([[7, 8, 9]])]\n"
     ]
    }
   ],
   "source": [
    "array_2d=np.array([[1,2,3],[4,5,6],[7,8,9]])\n",
    "split_rows=np.vsplit(array_2d,3)\n",
    "print(split_rows)"
   ]
  },
  {
   "cell_type": "code",
   "execution_count": 11,
   "metadata": {},
   "outputs": [
    {
     "name": "stdout",
     "output_type": "stream",
     "text": [
      "[False False False  True  True]\n",
      "Filtered array : \n",
      " [40 50]\n"
     ]
    }
   ],
   "source": [
    "array=np.array([10,20,30,40,50])\n",
    "bool_index=array>30\n",
    "print(bool_index)\n",
    "filtered_array=array[bool_index]\n",
    "print(\"Filtered array : \\n\",filtered_array)"
   ]
  },
  {
   "cell_type": "code",
   "execution_count": 12,
   "metadata": {},
   "outputs": [
    {
     "name": "stdout",
     "output_type": "stream",
     "text": [
      "string array :\n",
      " [['cat' 'dog']\n",
      " ['apple' 'banana']]\n"
     ]
    }
   ],
   "source": [
    "list_of_strings=[['cat','dog'],['apple','banana']]\n",
    "string_array=np.array(list_of_strings)\n",
    "print(\"string array :\\n\",string_array)"
   ]
  },
  {
   "cell_type": "code",
   "execution_count": 13,
   "metadata": {},
   "outputs": [
    {
     "name": "stdout",
     "output_type": "stream",
     "text": [
      "Employee Data Array :\n",
      " [['101' 'Alice' '28' 'HR']\n",
      " ['102' 'Bob' '34' 'Finance']\n",
      " ['103' 'Charlie' '25' 'IT']\n",
      " ['104' 'David' '30' 'Marketing']\n",
      " ['105' 'Eve' '29' 'It']]\n"
     ]
    }
   ],
   "source": [
    "employee_data=np.array([[101,'Alice',28,'HR'],[102,'Bob',34,'Finance'],[103,'Charlie',25,'IT'],[104,'David',30,'Marketing'],[105,'Eve',29,'It']])\n",
    "print(\"Employee Data Array :\\n\",employee_data)"
   ]
  },
  {
   "cell_type": "code",
   "execution_count": 14,
   "metadata": {},
   "outputs": [
    {
     "name": "stdout",
     "output_type": "stream",
     "text": [
      "Date Array : ['2024-01-01' '2024-01-02' '2024-01-03' '2024-01-04' '2024-01-05'\n",
      " '2024-01-06' '2024-01-07' '2024-01-08' '2024-01-09' '2024-01-10']\n"
     ]
    }
   ],
   "source": [
    "date_array=np.arange('2024-01-01','2024-01-11',dtype='datetime64[D]')\n",
    "print(\"Date Array :\",date_array)"
   ]
  },
  {
   "cell_type": "code",
   "execution_count": 15,
   "metadata": {},
   "outputs": [
    {
     "name": "stdout",
     "output_type": "stream",
     "text": [
      "Structured Data [(1, 'Alice') (2, 'Bob')]\n"
     ]
    }
   ],
   "source": [
    "data=np.array([(1,'Alice'),(2,'Bob')],dtype=[('ID','i4'),('Name','U10')])\n",
    "print(\"Structured Data\",data)"
   ]
  },
  {
   "cell_type": "code",
   "execution_count": 16,
   "metadata": {},
   "outputs": [
    {
     "name": "stdout",
     "output_type": "stream",
     "text": [
      "Swapped Axes Array :\n",
      " [[1 4]\n",
      " [2 5]\n",
      " [3 6]]\n"
     ]
    }
   ],
   "source": [
    "array_2d=np.array([[1,2,3],[4,5,6]])\n",
    "swapped_array=np.swapaxes(array_2d,0,1)\n",
    "print(\"Swapped Axes Array :\\n\",swapped_array)"
   ]
  },
  {
   "cell_type": "code",
   "execution_count": 21,
   "metadata": {},
   "outputs": [
    {
     "name": "stdout",
     "output_type": "stream",
     "text": [
      "Employee Data :\n",
      "[(101, 'John Doe', 'HR', 55000.5 ) (102, 'Jane Smith', 'IT', 72000.75)\n",
      " (103, 'Emily Davis', 'Finance', 61000.  )\n",
      " (104, 'MIchael Johnson', 'Marketing', 59000.74)]\n",
      "]nNames of Employees\n",
      "['John Doe' 'Jane Smith' 'Emily Davis' 'MIchael Johnson']\n",
      "\n",
      "Salaries of employees:\n",
      "[55000.5  72000.75 61000.   59000.74]\n"
     ]
    }
   ],
   "source": [
    "employee_data_type=np.dtype([('EmployeeId','i4'),('Name','U50'),('Department','U30'),('Salary','f8')])\n",
    "#i4 for 4bit integer \n",
    "#string of max kength 50\n",
    "#string of max length 30\n",
    "# 8byte float\n",
    "\n",
    "employees=np.array([(101,'John Doe','HR',55000.50),(102,'Jane Smith','IT',72000.75),(103,'Emily Davis','Finance',61000.00),(104,'MIchael Johnson','Marketing',59000.74)],dtype=employee_data_type)\n",
    "print(\"Employee Data :\")\n",
    "print(employees)\n",
    "\n",
    "#acessing specific fields\n",
    "print(\"]nNames of Employees\")\n",
    "print(employees['Name'])\n",
    "\n",
    "print(\"\\nSalaries of employees:\")\n",
    "print(employees['Salary'])\n"
   ]
  },
  {
   "cell_type": "code",
   "execution_count": 22,
   "metadata": {},
   "outputs": [
    {
     "name": "stdout",
     "output_type": "stream",
     "text": [
      " INitialEmployee Data :\n",
      "[(101, 'John Doe', 'HR', 55000.5 , 4.5, 0.)\n",
      " (102, 'Jane Smith', 'IT', 72000.75, 4.8, 0.)\n",
      " (103, 'Emily Davis', 'Finance', 61000.  , 3.9, 0.)\n",
      " (104, 'MIchael Johnson', 'Marketing', 59000.74, 4.2, 0.)\n",
      " (105, 'Anna White', 'sales', 67000.  , 4.7, 0.)]\n"
     ]
    }
   ],
   "source": [
    "#define structured array with addiotional fields\n",
    "employee_data_type=np.dtype([('EmployeeId','i4'),\n",
    "                             ('Name','U50'),\n",
    "                             ('Department','U30'),\n",
    "                             ('Salary','f8'),\n",
    "                             ('PerformanceRating','f4'),\n",
    "                             ('Bonus','f8')])\n",
    "#i4 for 4bit integer \n",
    "#string of max kength 50\n",
    "#string of max length 30\n",
    "# 8byte float\n",
    "#8byte float initialy set to zero\n",
    "\n",
    "#create the array with employee dat including performance\n",
    "employees=np.array([(101,'John Doe','HR',55000.50,4.5,0.0),\n",
    "                    (102,'Jane Smith','IT',72000.75,4.8,0.0),\n",
    "                    (103,'Emily Davis','Finance',61000.00,3.9,0.0),\n",
    "                    (104,'MIchael Johnson','Marketing',59000.74,4.2,0.0),\n",
    "                    (105,'Anna White','sales',67000.00,4.7,0.0)],dtype=employee_data_type)\n",
    "print(\" INitialEmployee Data :\")\n",
    "print(employees)\n",
    "\n",
    "\n",
    "#calculate bonus based on dept and performance\n",
    "\n"
   ]
  }
 ],
 "metadata": {
  "kernelspec": {
   "display_name": "base",
   "language": "python",
   "name": "python3"
  },
  "language_info": {
   "codemirror_mode": {
    "name": "ipython",
    "version": 3
   },
   "file_extension": ".py",
   "mimetype": "text/x-python",
   "name": "python",
   "nbconvert_exporter": "python",
   "pygments_lexer": "ipython3",
   "version": "3.11.5"
  }
 },
 "nbformat": 4,
 "nbformat_minor": 2
}
