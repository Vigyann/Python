{
 "cells": [
  {
   "cell_type": "code",
   "execution_count": 4,
   "metadata": {},
   "outputs": [
    {
     "name": "stdout",
     "output_type": "stream",
     "text": [
      "[1, 2, 3, 4]\n",
      "[1, 2, 3, 4, 800]\n",
      "[1, 2, 3, 4, 800, 400, 500, 800]\n",
      "[1, 2, 4, 800, 400, 500, 800]\n",
      "[1, 2, 800, 400, 500, 800]\n",
      "[1, 2, 800, 400, 500]\n",
      "3\n"
     ]
    }
   ],
   "source": [
    "l1=[1,2,3,4,]\n",
    "print(l1)\n",
    "l1.append(800)\n",
    "print(l1)\n",
    "l1.extend([400,500,800])\n",
    "print(l1)\n",
    "l1.remove(3)\n",
    "print(l1)\n",
    "l1.pop(2)\n",
    "print(l1)\n",
    "l1.pop()\n",
    "print(l1)\n",
    "l2=[1,2,3,3,3,4,5,5,5,6,7]\n",
    "print(l2.count(3))"
   ]
  },
  {
   "cell_type": "code",
   "execution_count": 6,
   "metadata": {},
   "outputs": [
    {
     "name": "stdout",
     "output_type": "stream",
     "text": [
      "[]\n"
     ]
    }
   ],
   "source": [
    "l2.clear()# used to clear all elements of a list\n",
    "print(l2)"
   ]
  },
  {
   "cell_type": "code",
   "execution_count": 8,
   "metadata": {},
   "outputs": [
    {
     "name": "stdout",
     "output_type": "stream",
     "text": [
      "1\n"
     ]
    }
   ],
   "source": [
    "l3=['banana','mango','apple']\n",
    "print(l3.index('mango'))"
   ]
  },
  {
   "cell_type": "code",
   "execution_count": 10,
   "metadata": {},
   "outputs": [
    {
     "name": "stdout",
     "output_type": "stream",
     "text": [
      "[1, 5, 6, 8, 33, 45]\n"
     ]
    }
   ],
   "source": [
    "l1=[1,5,6,8,9,33,45]\n",
    "a=int(input(\"Enter index no to delete element\"))\n",
    "l1.pop(a)\n",
    "print(l1)"
   ]
  },
  {
   "cell_type": "code",
   "execution_count": 13,
   "metadata": {},
   "outputs": [
    {
     "name": "stdout",
     "output_type": "stream",
     "text": [
      "[45, 33, 8, 6, 5, 1]\n"
     ]
    }
   ],
   "source": [
    "(l1.sort(reverse=True))\n",
    "print(l1)\n"
   ]
  },
  {
   "cell_type": "code",
   "execution_count": 14,
   "metadata": {},
   "outputs": [
    {
     "name": "stdout",
     "output_type": "stream",
     "text": [
      "1\n",
      "2\n",
      "3\n",
      "4\n",
      "5\n",
      "6\n",
      "7\n",
      "8\n",
      "9\n",
      "10\n",
      "else executed\n"
     ]
    }
   ],
   "source": [
    "i=1\n",
    "while(i<=10):\n",
    "    print(i)\n",
    "    i=i+1\n",
    "else:\n",
    "    print(\"else executed\")"
   ]
  },
  {
   "cell_type": "code",
   "execution_count": 15,
   "metadata": {},
   "outputs": [
    {
     "name": "stdout",
     "output_type": "stream",
     "text": [
      "0\n"
     ]
    }
   ],
   "source": [
    "for i in range(10):\n",
    "    print(i)\n",
    "    break"
   ]
  },
  {
   "cell_type": "code",
   "execution_count": 18,
   "metadata": {},
   "outputs": [
    {
     "name": "stdout",
     "output_type": "stream",
     "text": [
      "0\n",
      "1\n",
      "2\n",
      "3\n",
      "4\n",
      "6\n",
      "7\n",
      "8\n",
      "9\n"
     ]
    }
   ],
   "source": [
    "for i in range(10):\n",
    "    if(i==5):\n",
    "        continue\n",
    "    print(i)"
   ]
  },
  {
   "cell_type": "code",
   "execution_count": 19,
   "metadata": {},
   "outputs": [
    {
     "name": "stdout",
     "output_type": "stream",
     "text": [
      "2\n"
     ]
    }
   ],
   "source": [
    "l3=[[1,2,3],[4,5,6]]\n",
    "print(l3[0][1])"
   ]
  },
  {
   "cell_type": "code",
   "execution_count": 21,
   "metadata": {},
   "outputs": [
    {
     "name": "stdout",
     "output_type": "stream",
     "text": [
      "0 1\n",
      "1 2\n",
      "2 3\n",
      "3 4\n",
      "4 5\n"
     ]
    }
   ],
   "source": [
    "\n",
    "l3=[1,2,3,4,5] # enumerate function is useful when we are suppose to print both index and value\n",
    "for i,j in enumerate(l3):\n",
    "    print(i,j)\n"
   ]
  },
  {
   "cell_type": "code",
   "execution_count": 24,
   "metadata": {},
   "outputs": [
    {
     "name": "stdout",
     "output_type": "stream",
     "text": [
      "5\n",
      "1\n"
     ]
    }
   ],
   "source": [
    "print(max(l3))\n",
    "print(min(l1))"
   ]
  },
  {
   "cell_type": "code",
   "execution_count": 33,
   "metadata": {},
   "outputs": [
    {
     "name": "stdout",
     "output_type": "stream",
     "text": [
      "1\n"
     ]
    }
   ],
   "source": [
    "l3=[1,2,3,4,5]\n",
    "s=l3[0]\n",
    "for i in l3[:]:\n",
    "    if i<s:\n",
    "      s = i\n",
    "print(s)\n"
   ]
  },
  {
   "cell_type": "code",
   "execution_count": 8,
   "metadata": {},
   "outputs": [
    {
     "name": "stdout",
     "output_type": "stream",
     "text": [
      "karan\n",
      "mohali\n",
      "{'eid': 1000, 'ename': 'karan', 'ecity': 'mohali', 'edesg': 'manager', 'equal': 'MCA(AI)'}\n",
      "{'ename': 'karan', 'ecity': 'mohali', 'edesg': 'manager', 'equal': 'MCA(AI)'}\n",
      "dict_keys(['ename', 'ecity', 'edesg'])\n",
      "dict_values(['karan', 'mohali', 'manager'])\n",
      "dict_items([('ename', 'karan'), ('ecity', 'mohali'), ('edesg', 'manager')])\n"
     ]
    }
   ],
   "source": [
    "dict1={\n",
    "    'eid':1000,\n",
    "    'ename':'karan',\n",
    "    'ecity':'mohali'\n",
    "}\n",
    "print(dict1['ename'])\n",
    "print(dict1.get('ecity'))\n",
    "dict1.update({'edesg':'manager','equal':'MCA(AI)'})\n",
    "print(dict1)\n",
    "dict1.pop('eid')\n",
    "print(dict1)\n",
    "dict1.popitem()\n",
    "print(dict1.keys())\n",
    "print(dict1.values())\n",
    "print(dict1.items())"
   ]
  },
  {
   "cell_type": "code",
   "execution_count": 9,
   "metadata": {},
   "outputs": [
    {
     "name": "stdout",
     "output_type": "stream",
     "text": [
      "ename\n",
      "ecity\n",
      "edesg\n"
     ]
    }
   ],
   "source": [
    "for data in dict1:#for keys access\n",
    "    print(data)"
   ]
  },
  {
   "cell_type": "code",
   "execution_count": 10,
   "metadata": {},
   "outputs": [
    {
     "name": "stdout",
     "output_type": "stream",
     "text": [
      "karan\n",
      "mohali\n",
      "manager\n"
     ]
    }
   ],
   "source": [
    "for data in dict1.values():# toaccess values of keys\n",
    "    print(data)\n"
   ]
  },
  {
   "cell_type": "code",
   "execution_count": 11,
   "metadata": {},
   "outputs": [
    {
     "name": "stdout",
     "output_type": "stream",
     "text": [
      "ename karan\n",
      "ecity mohali\n",
      "edesg manager\n"
     ]
    }
   ],
   "source": [
    "for k,v in dict1.items():\n",
    "    print(k,v)"
   ]
  },
  {
   "cell_type": "code",
   "execution_count": 14,
   "metadata": {},
   "outputs": [
    {
     "name": "stdout",
     "output_type": "stream",
     "text": [
      "{'i': 'me'}\n"
     ]
    }
   ],
   "source": [
    "a={}\n",
    "z=input(\"enter key :\")\n",
    "y=input(\"enter value :\")\n",
    "a[z]=y\n",
    "print(a)"
   ]
  },
  {
   "cell_type": "code",
   "execution_count": 17,
   "metadata": {},
   "outputs": [
    {
     "name": "stdout",
     "output_type": "stream",
     "text": [
      "{'1': 'ew', '2': 'rto', '3': 'tyu'}\n"
     ]
    }
   ],
   "source": [
    "a={}\n",
    "while(True):\n",
    "  z=input(\"enter key :\")\n",
    "  if(z==\"stop\"):\n",
    "    break\n",
    "  y=input(\"enter value :\")\n",
    "  a[z]=y\n",
    "\n",
    "print(a)"
   ]
  },
  {
   "cell_type": "code",
   "execution_count": 19,
   "metadata": {},
   "outputs": [
    {
     "name": "stdout",
     "output_type": "stream",
     "text": [
      "{}\n"
     ]
    }
   ],
   "source": [
    "a.clear()\n",
    "print(a)"
   ]
  },
  {
   "cell_type": "code",
   "execution_count": 20,
   "metadata": {},
   "outputs": [
    {
     "name": "stdout",
     "output_type": "stream",
     "text": [
      "{1: 'a', 2: 'b', 3: 'c'}\n"
     ]
    }
   ],
   "source": [
    "d1={'a':1,'b':2,'c':3}\n",
    "d2={v:k for k,v in d1.items()}#dictionary comprehension\n",
    "print(d2)"
   ]
  },
  {
   "cell_type": "code",
   "execution_count": 21,
   "metadata": {},
   "outputs": [
    {
     "name": "stdout",
     "output_type": "stream",
     "text": [
      "1000\n"
     ]
    }
   ],
   "source": [
    "dic3={#fiterisation\n",
    "    'karan':{'eid':1000,'ename':'karan'},\n",
    "    'harman':{'eid':1002,'ename':'mohit'}\n",
    "}\n",
    "print(dic3['karan']['eid'])"
   ]
  },
  {
   "cell_type": "code",
   "execution_count": 22,
   "metadata": {},
   "outputs": [
    {
     "name": "stdout",
     "output_type": "stream",
     "text": [
      "1000\n",
      "karan\n",
      "1002\n",
      "mohit\n"
     ]
    }
   ],
   "source": [
    "for i in dic3:\n",
    "    for j in dic3[i]:\n",
    "        print(dic3[i][j])"
   ]
  },
  {
   "cell_type": "code",
   "execution_count": null,
   "metadata": {},
   "outputs": [],
   "source": []
  }
 ],
 "metadata": {
  "kernelspec": {
   "display_name": "base",
   "language": "python",
   "name": "python3"
  },
  "language_info": {
   "codemirror_mode": {
    "name": "ipython",
    "version": 3
   },
   "file_extension": ".py",
   "mimetype": "text/x-python",
   "name": "python",
   "nbconvert_exporter": "python",
   "pygments_lexer": "ipython3",
   "version": "3.11.5"
  }
 },
 "nbformat": 4,
 "nbformat_minor": 2
}
