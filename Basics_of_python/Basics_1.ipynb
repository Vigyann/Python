{
 "cells": [
  {
   "cell_type": "code",
   "execution_count": 1,
   "metadata": {},
   "outputs": [
    {
     "name": "stdout",
     "output_type": "stream",
     "text": [
      "30\n"
     ]
    }
   ],
   "source": [
    "a=10\n",
    "b=20\n",
    "print(a+b)"
   ]
  },
  {
   "cell_type": "code",
   "execution_count": 2,
   "metadata": {},
   "outputs": [
    {
     "name": "stdout",
     "output_type": "stream",
     "text": [
      "rohit\n"
     ]
    }
   ],
   "source": [
    "data=input('enter Data:')\n",
    "print(data)"
   ]
  },
  {
   "cell_type": "code",
   "execution_count": 3,
   "metadata": {},
   "outputs": [
    {
     "name": "stdout",
     "output_type": "stream",
     "text": [
      "9\n"
     ]
    }
   ],
   "source": [
    "num1=int(input('number1: '))\n",
    "print('number 1:',num1)\n",
    "num2=int(input('number2: '))\n",
    "print(num1+num2)\n"
   ]
  },
  {
   "cell_type": "code",
   "execution_count": 6,
   "metadata": {},
   "outputs": [
    {
     "name": "stdout",
     "output_type": "stream",
     "text": [
      "data not ok\n"
     ]
    }
   ],
   "source": [
    "data=int(input('Enter a number :'))\n",
    "if(data>20):\n",
    "    print('data ok')\n",
    "else:\n",
    "    print('data not ok')"
   ]
  },
  {
   "cell_type": "code",
   "execution_count": 8,
   "metadata": {},
   "outputs": [
    {
     "name": "stdout",
     "output_type": "stream",
     "text": [
      "password : admin123\n",
      "password for admin\n"
     ]
    }
   ],
   "source": [
    "password=input('enter password: ')\n",
    "print('password :',password)\n",
    "if(password=='admin123'):\n",
    "    print('password for admin')\n",
    "elif(password=='user123'):\n",
    "    print('password for user')\n",
    "elif(password=='student1233'):\n",
    "    print('password for student')\n",
    "else:\n",
    "    print('invalid password')"
   ]
  },
  {
   "cell_type": "code",
   "execution_count": 10,
   "metadata": {},
   "outputs": [
    {
     "name": "stdout",
     "output_type": "stream",
     "text": [
      "Number:  12\n",
      "no is positive\n"
     ]
    }
   ],
   "source": [
    "num=int(input('Enter number :'))\n",
    "print('Number: ',num)\n",
    "if(num>0):\n",
    "    print('no is positive')\n",
    "elif(num==0):\n",
    "    print('No is neither positive nor negative')\n",
    "else:\n",
    "    print('Non is negative')"
   ]
  },
  {
   "cell_type": "code",
   "execution_count": 11,
   "metadata": {},
   "outputs": [
    {
     "name": "stdout",
     "output_type": "stream",
     "text": [
      "Marks:  20\n",
      "Grade : F\n"
     ]
    }
   ],
   "source": [
    "marks=int(input('Enter marks :'))\n",
    "print('Marks: ',marks)\n",
    "if(marks>=90):\n",
    "    print('\"Grade : A')\n",
    "elif(marks>=80):\n",
    "    print('Grade : B')\n",
    "elif(marks>=70):\n",
    "    print('Grade : c')\n",
    "elif(marks>=60):\n",
    "    print('Grade : D')\n",
    "elif(marks>=50):\n",
    "    print('Grade : E')\n",
    "elif(marks<50):\n",
    "    print('Grade : F')\n",
    "else:\n",
    "    print('invalid marks entry')"
   ]
  },
  {
   "cell_type": "code",
   "execution_count": 13,
   "metadata": {},
   "outputs": [
    {
     "name": "stdout",
     "output_type": "stream",
     "text": [
      "Temperature:  32\n",
      "its freezing\n"
     ]
    }
   ],
   "source": [
    "temperature=int(input('Enter temperature :'))\n",
    "print('Temperature: ',temperature)\n",
    "if(temperature>=100):\n",
    "    print('Extremely hoty')\n",
    "elif(temperature>=70):\n",
    "    print('its warm')\n",
    "elif(temperature>=50):\n",
    "    print('its mild')\n",
    "elif(temperature>32):\n",
    "    print('its cool')\n",
    "elif(temperature<=32):\n",
    "    print('its freezing')\n"
   ]
  },
  {
   "cell_type": "code",
   "execution_count": 15,
   "metadata": {},
   "outputs": [
    {
     "name": "stdout",
     "output_type": "stream",
     "text": [
      "KIlometers travelled is: 120\n",
      "car type is :SUV\n",
      "rate per km is: 20\n",
      "total bill is : 2400\n"
     ]
    }
   ],
   "source": [
    "kilometers=120\n",
    "car_type=\"\"\n",
    "rate_per_km=0\n",
    "if(kilometers<=50):\n",
    "    car_type=\"Hatchback\"\n",
    "    rate_per_km=10\n",
    "elif(kilometers<=100):\n",
    "    car_type=\"Sedan\"\n",
    "    rate_per_km=15\n",
    "elif(kilometers<=200):\n",
    "    car_type=\"SUV\"\n",
    "    rate_per_km=20\n",
    "elif(kilometers>200):\n",
    "    car_type=\"Luxury\"\n",
    "    rate_per_km=25\n",
    "\n",
    "total_bill=rate_per_km*kilometers\n",
    "print(f\"KIlometers travelled is: {kilometers}\")   \n",
    "print(f\"car type is :{car_type}\")\n",
    "print(f\"rate per km is: {rate_per_km}\")\n",
    "print(f\"total bill is : {total_bill}\")"
   ]
  },
  {
   "cell_type": "code",
   "execution_count": 17,
   "metadata": {},
   "outputs": [
    {
     "name": "stdout",
     "output_type": "stream",
     "text": [
      "welcome to xyz Travel agency\n",
      "\n",
      "Select acar type\n",
      "1. Hatchback\n",
      "2. Sedan\n",
      "3. SUV\n",
      "4. Luxury\n",
      "The distance travelled 100.0 in km for car type Sedan is going to have a total bill of : Rs 1500.0\n"
     ]
    }
   ],
   "source": [
    "print(\"welcome to xyz Travel agency\")\n",
    "kilometers=float(input(\"enter the no of kilometres you want to trvael\"))\n",
    "if (kilometers<=0):\n",
    "    print(\"Invalid input! km must be greater than 0\")\n",
    "else:\n",
    "    print(\"\\nSelect a car type\")\n",
    "    print(\"1. Hatchback\")\n",
    "    print(\"2. Sedan\")\n",
    "    print(\"3. SUV\")\n",
    "    print(\"4. Luxury\")\n",
    "\n",
    "car_choice=input(\"\\nEnter the no corresponding to your car choice\")\n",
    "car_type=\"\"\n",
    "rate_per_km=0\n",
    "if(kilometers<=50):\n",
    "    car_type=\"Hatchback\"\n",
    "    rate_per_km=10\n",
    "elif(kilometers<=100):\n",
    "    car_type=\"Sedan\"\n",
    "    rate_per_km=15\n",
    "elif(kilometers<=200):\n",
    "    car_type=\"SUV\"\n",
    "    rate_per_km=20\n",
    "elif(kilometers>200):\n",
    "    car_type=\"Luxury\"\n",
    "    rate_per_km=25\n",
    "\n",
    "total_bill=rate_per_km*kilometers\n",
    "print(f\"The distance travelled {kilometers} in km for car type {car_type} is going to have a total bill of : Rs {total_bill}\")\n"
   ]
  },
  {
   "cell_type": "code",
   "execution_count": 19,
   "metadata": {},
   "outputs": [
    {
     "name": "stdout",
     "output_type": "stream",
     "text": [
      "1 sonu\n",
      "2 rahul\n",
      "3 vigyan\n"
     ]
    }
   ],
   "source": [
    "for i in [1,2,3]:\n",
    "    data=input('Enter Data')\n",
    "    print(i,data)"
   ]
  },
  {
   "cell_type": "code",
   "execution_count": 20,
   "metadata": {},
   "outputs": [
    {
     "name": "stdout",
     "output_type": "stream",
     "text": [
      "36\n"
     ]
    }
   ],
   "source": [
    "sum=0\n",
    "for i in [1,2,3,4,5,6,7,8]:\n",
    "    sum=sum+i\n",
    "print(sum)\n",
    "       \n",
    "    \n"
   ]
  },
  {
   "cell_type": "code",
   "execution_count": 26,
   "metadata": {},
   "outputs": [
    {
     "name": "stdout",
     "output_type": "stream",
     "text": [
      "welcome to XYZ ecommerce store\n",
      "\n",
      "Select a product: \n",
      "1. Laptop(RS 50,000 each)\n",
      "2. Smartphone(Rs 20,000 each)\n",
      "3. Headphones(Rs 2000 each)\n",
      "4. SmartWatch(Rs 5000 each)\n",
      "The The total bill for your product is : Rs40000\n"
     ]
    }
   ],
   "source": [
    "print(\"welcome to XYZ ecommerce store\")\n",
    "print(\"\\nSelect a product: \")\n",
    "print(\"1. Laptop(RS 50,000 each)\")\n",
    "print(\"2. Smartphone(Rs 20,000 each)\")\n",
    "print(\"3. Headphones(Rs 2000 each)\")\n",
    "print(\"4. SmartWatch(Rs 5000 each)\")\n",
    "\n",
    "product_choice=input(\"\\nEnter the no of product to your choice : \")\n",
    "quantity=int(input(\"enter the qunatity  : \"))\n",
    "\n",
    "if(product_choice==\"1\"):\n",
    "    total_price=quantity*50000\n",
    "elif(product_choice==\"2\"):\n",
    "    total_price=quantity*20000\n",
    "elif(product_choice==\"3\"):\n",
    "    total_price=quantity*2000\n",
    "elif(product_choice==\"4\"):\n",
    "    total_price=quantity*5000\n",
    "else:\n",
    "    print(\"invalid product choice\")\n",
    "\n",
    "\n",
    "print(f\"The The total bill for your product is : Rs{total_price}\")\n"
   ]
  }
 ],
 "metadata": {
  "kernelspec": {
   "display_name": "base",
   "language": "python",
   "name": "python3"
  },
  "language_info": {
   "codemirror_mode": {
    "name": "ipython",
    "version": 3
   },
   "file_extension": ".py",
   "mimetype": "text/x-python",
   "name": "python",
   "nbconvert_exporter": "python",
   "pygments_lexer": "ipython3",
   "version": "3.11.5"
  }
 },
 "nbformat": 4,
 "nbformat_minor": 2
}
